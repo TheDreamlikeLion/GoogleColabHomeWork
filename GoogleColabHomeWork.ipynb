{
  "nbformat": 4,
  "nbformat_minor": 0,
  "metadata": {
    "colab": {
      "provenance": []
    },
    "kernelspec": {
      "name": "python3",
      "display_name": "Python 3"
    },
    "language_info": {
      "name": "python"
    }
  },
  "cells": [
    {
      "cell_type": "markdown",
      "source": [
        "##Задача 44:\n",
        "###В ячейке ниже представлен код генерирующий DataFrame, которая состоит всего из 1 столбца. Ваша задача перевести его в one hot вид. Сможете ли вы это сделать без get_dummies?\n",
        "\n",
        "import random\n",
        "lst = ['robot'] * 10\n",
        "lst += ['human'] * 10\n",
        "random.shuffle(lst)\n",
        "data = pd.DataFrame({'whoAmI':lst})\n",
        "data.head()"
      ],
      "metadata": {
        "id": "Nbrbi8K8vp0I"
      }
    },
    {
      "cell_type": "code",
      "execution_count": 32,
      "metadata": {
        "colab": {
          "base_uri": "https://localhost:8080/"
        },
        "id": "YD4uP4Lwe2Tq",
        "outputId": "7865e979-925d-4d64-86e5-1017694e300a"
      },
      "outputs": [
        {
          "output_type": "stream",
          "name": "stdout",
          "text": [
            "   whoAmI\n",
            "0   robot\n",
            "1   robot\n",
            "2   human\n",
            "3   robot\n",
            "4   human\n",
            "5   human\n",
            "6   robot\n",
            "7   human\n",
            "8   robot\n",
            "9   human\n",
            "10  robot\n",
            "11  robot\n",
            "12  human\n",
            "13  robot\n",
            "14  robot\n",
            "15  robot\n",
            "16  human\n",
            "17  human\n",
            "18  human\n",
            "19  human\n",
            "\n",
            "    human  robot\n",
            "0       0      1\n",
            "1       0      1\n",
            "2       1      0\n",
            "3       0      1\n",
            "4       1      0\n",
            "5       1      0\n",
            "6       0      1\n",
            "7       1      0\n",
            "8       0      1\n",
            "9       1      0\n",
            "10      0      1\n",
            "11      0      1\n",
            "12      1      0\n",
            "13      0      1\n",
            "14      0      1\n",
            "15      0      1\n",
            "16      1      0\n",
            "17      1      0\n",
            "18      1      0\n",
            "19      1      0\n"
          ]
        }
      ],
      "source": [
        "import pandas as pd\n",
        "import numpy as np\n",
        "import random\n",
        "\n",
        "lst = ['robot'] * 10\n",
        "lst += ['human'] * 10\n",
        "random.shuffle(lst)\n",
        "data = pd.DataFrame({'whoAmI': lst})\n",
        "print(data)\n",
        "print('')\n",
        "\n",
        "#Решение:\n",
        "#Считаем, что на вход получаем готовый DataFrame. возвращаем значения в список lst.\n",
        "lst = list(data['whoAmI'])\n",
        "#Выбираем значения для имен столбцов\n",
        "values_set = set(lst)\n",
        "one_hot_dataframe = data\n",
        "for label in values_set:\n",
        "  filtered_data=[]\n",
        "  for item in lst:\n",
        "    if item == label:\n",
        "      filtered_data.append(1)\n",
        "    else:\n",
        "      filtered_data.append(0)\n",
        "  one_hot_dataframe[label]=filtered_data\n",
        "#Создан ДатаФрейм, в котором первый столбец соответствует изначальному ДатаФрейму\n",
        "#(для удобства чтения), а два других выводятся в виде one hot.\n",
        "#print(one_hot_dataframe)\n",
        "\n",
        "one_hot_dataframe.drop(one_hot_dataframe.columns[[0]], axis=1, inplace=True)\n",
        "#ДатаФрейм изменен: человеко-читаемый список удален, оставлен только вид one hot.\n",
        "print(one_hot_dataframe)"
      ]
    }
  ]
}